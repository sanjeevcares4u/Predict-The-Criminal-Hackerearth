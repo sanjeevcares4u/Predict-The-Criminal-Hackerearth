{
 "cells": [
  {
   "cell_type": "markdown",
   "metadata": {},
   "source": [
    "# Problem Statement\n",
    "\n",
    "There has been a surge in crimes committed in recent years, making crime a top cause of concern for law enforcement. \n",
    "If we are able to estimate whether someone is going to commit a crime in the future, we can take precautions and be prepared.\n",
    "You are given a dataset containing answers to various questions concerning the professional and private lives of several people. \n",
    "A few of them have been arrested for various small and large crimes in the past. \n",
    "Use the given data to predict if the people in the test data will commit a crime. \n",
    "The train data consists of 45718 rows, while the test data consists of 11430 rows."
   ]
  },
  {
   "cell_type": "markdown",
   "metadata": {},
   "source": [
    "# Import Libraries"
   ]
  },
  {
   "cell_type": "code",
   "execution_count": 1,
   "metadata": {},
   "outputs": [],
   "source": [
    "# Matrix\n",
    "import numpy as np\n",
    "\n",
    "# Data manipulation\n",
    "import pandas as pd\n",
    "\n",
    "# data visualization\n",
    "import seaborn as sns\n",
    "%matplotlib inline\n",
    "from matplotlib import pyplot as plt\n",
    "from matplotlib import style\n",
    "\n",
    "# Algorithms\n",
    "\n",
    "from sklearn.model_selection import train_test_split \n",
    "from sklearn.ensemble import RandomForestClassifier\n",
    "from sklearn.tree import DecisionTreeClassifier\n"
   ]
  },
  {
   "cell_type": "markdown",
   "metadata": {},
   "source": [
    "# Getting the Data"
   ]
  },
  {
   "cell_type": "code",
   "execution_count": 2,
   "metadata": {},
   "outputs": [],
   "source": [
    "train = 'criminal_train.csv'\n",
    "train_df = pd.read_csv(train)\n",
    "\n",
    "test = 'criminal_test.csv'\n",
    "test_df = pd.read_csv(test)"
   ]
  },
  {
   "cell_type": "markdown",
   "metadata": {},
   "source": [
    "# Data Exploration/Analysis"
   ]
  },
  {
   "cell_type": "code",
   "execution_count": 3,
   "metadata": {},
   "outputs": [],
   "source": [
    "combine = [train_df,test_df]"
   ]
  },
  {
   "cell_type": "code",
   "execution_count": 4,
   "metadata": {},
   "outputs": [
    {
     "name": "stdout",
     "output_type": "stream",
     "text": [
      "<class 'pandas.core.frame.DataFrame'>\n",
      "RangeIndex: 45718 entries, 0 to 45717\n",
      "Data columns (total 72 columns):\n",
      "PERID        45718 non-null int64\n",
      "IFATHER      45718 non-null int64\n",
      "NRCH17_2     45718 non-null int64\n",
      "IRHHSIZ2     45718 non-null int64\n",
      "IIHHSIZ2     45718 non-null int64\n",
      "IRKI17_2     45718 non-null int64\n",
      "IIKI17_2     45718 non-null int64\n",
      "IRHH65_2     45718 non-null int64\n",
      "IIHH65_2     45718 non-null int64\n",
      "PRXRETRY     45718 non-null int64\n",
      "PRXYDATA     45718 non-null int64\n",
      "MEDICARE     45718 non-null int64\n",
      "CAIDCHIP     45718 non-null int64\n",
      "CHAMPUS      45718 non-null int64\n",
      "PRVHLTIN     45718 non-null int64\n",
      "GRPHLTIN     45718 non-null int64\n",
      "HLTINNOS     45718 non-null int64\n",
      "HLCNOTYR     45718 non-null int64\n",
      "HLCNOTMO     45718 non-null int64\n",
      "HLCLAST      45718 non-null int64\n",
      "HLLOSRSN     45718 non-null int64\n",
      "HLNVCOST     45718 non-null int64\n",
      "HLNVOFFR     45718 non-null int64\n",
      "HLNVREF      45718 non-null int64\n",
      "HLNVNEED     45718 non-null int64\n",
      "HLNVSOR      45718 non-null int64\n",
      "IRMCDCHP     45718 non-null int64\n",
      "IIMCDCHP     45718 non-null int64\n",
      "IRMEDICR     45718 non-null int64\n",
      "IIMEDICR     45718 non-null int64\n",
      "IRCHMPUS     45718 non-null int64\n",
      "IICHMPUS     45718 non-null int64\n",
      "IRPRVHLT     45718 non-null int64\n",
      "IIPRVHLT     45718 non-null int64\n",
      "IROTHHLT     45718 non-null int64\n",
      "IIOTHHLT     45718 non-null int64\n",
      "HLCALLFG     45718 non-null int64\n",
      "HLCALL99     45718 non-null int64\n",
      "ANYHLTI2     45718 non-null int64\n",
      "IRINSUR4     45718 non-null int64\n",
      "IIINSUR4     45718 non-null int64\n",
      "OTHINS       45718 non-null int64\n",
      "CELLNOTCL    45718 non-null int64\n",
      "CELLWRKNG    45718 non-null int64\n",
      "IRFAMSOC     45718 non-null int64\n",
      "IIFAMSOC     45718 non-null int64\n",
      "IRFAMSSI     45718 non-null int64\n",
      "IIFAMSSI     45718 non-null int64\n",
      "IRFSTAMP     45718 non-null int64\n",
      "IIFSTAMP     45718 non-null int64\n",
      "IRFAMPMT     45718 non-null int64\n",
      "IIFAMPMT     45718 non-null int64\n",
      "IRFAMSVC     45718 non-null int64\n",
      "IIFAMSVC     45718 non-null int64\n",
      "IRWELMOS     45718 non-null int64\n",
      "IIWELMOS     45718 non-null int64\n",
      "IRPINC3      45718 non-null int64\n",
      "IRFAMIN3     45718 non-null int64\n",
      "IIPINC3      45718 non-null int64\n",
      "IIFAMIN3     45718 non-null int64\n",
      "GOVTPROG     45718 non-null int64\n",
      "POVERTY3     45718 non-null int64\n",
      "TOOLONG      45718 non-null int64\n",
      "TROUBUND     45718 non-null int64\n",
      "PDEN10       45718 non-null int64\n",
      "COUTYP2      45718 non-null int64\n",
      "MAIIN102     45718 non-null int64\n",
      "AIIND102     45718 non-null int64\n",
      "ANALWT_C     45718 non-null float64\n",
      "VESTR        45718 non-null int64\n",
      "VEREP        45718 non-null int64\n",
      "Criminal     45718 non-null int64\n",
      "dtypes: float64(1), int64(71)\n",
      "memory usage: 25.1 MB\n"
     ]
    }
   ],
   "source": [
    "train_df.info()"
   ]
  },
  {
   "cell_type": "raw",
   "metadata": {},
   "source": [
    "The training-set has 45718 examples and 71 features + the target variable (survived). 1 of the features are floats, 71 are integers. Below I have listed the features with a short description:\n",
    "\n",
    "Variable Name \tDescription\n",
    "PERID \t    Person ID\n",
    "IFATHER \tFATHER IN HOUSEHOLD\n",
    "NRCH17_2 \tRECODED # R's CHILDREN < 18 IN HOUSEHOLD\n",
    "IRHHSIZ2 \tRECODE - IMPUTATION-REVISED # PERSONS IN HH\n",
    "IIHHSIZ2 \tIMPUTATION INDICATOR\n",
    "IRKI17_2 \tIMPUTATION-REVISED # KIDS AGED<18 IN HH\n",
    "IIKI17_2 \tIRKI17_2-IMPUTATION INDICATOR\n",
    "IRHH65_2 \tREC - IMPUTATION-REVISED # OF PER IN HH AGED>=65\n",
    "IIHH65_2 \tIRHH65_2-IMPUTATION INDICATOR\n",
    "PRXRETRY \tSELECTED PROXY UNAVAILABLE, OTHER PROXY AVAILABLE?\n",
    "PRXYDATA \tIS PROXY ANSWERING INSURANCE/INCOME QS\n",
    "MEDICARE \tCOVERED BY MEDICARE\n",
    "CAIDCHIP \tCOVERED BY MEDICAID/CHIP\n",
    "CHAMPUS \tCOV BY TRICARE, CHAMPUS, CHAMPVA, VA, MILITARY\n",
    "PRVHLTIN \tCOVERED BY PRIVATE INSURANCE\n",
    "GRPHLTIN \tPRIVATE PLAN OFFERED THROUGH EMPLOYER OR UNION\n",
    "HLTINNOS \tCOVERED BY HEALTH INSUR\n",
    "HLCNOTYR \tANYTIME DID NOT HAVE HEALTH INS/COVER PAST 12 MOS\n",
    "HLCNOTMO \tPAST 12 MOS, HOW MANY MOS W/O COVERAGE\n",
    "HLCLAST \tTIME SINCE LAST HAD HEALTH CARE COVERAGE\n",
    "HLLOSRSN \tMAIN REASON STOPPED COVERED BY HEALTH INSURANCE\n",
    "HLNVCOST \tCOST TOO HIGH\n",
    "HLNVOFFR \tEMPLOYER DOESN'T OFFER\n",
    "HLNVREF \tINSURANCE COMPANY REFUSED COVERAGE\n",
    "HLNVNEED \tDON'T NEED IT\n",
    "HLNVSOR \tNEVER HAD HLTH INS SOME OTHER REASON\n",
    "IRMCDCHP \tIMPUTATION REVISED CAIDCHIP\n",
    "IIMCDCHP \tMEDICAID/CHIP - IMPUTATION INDICATOR\n",
    "IRMEDICR \tMEDICARE - IMPUTATION REVISED\n",
    "IIMEDICR \tMEDICARE - IMPUTATION INDICATOR\n",
    "IRCHMPUS \tCHAMPUS - IMPUTATION REVISED\n",
    "IICHMPUS \tCHAMPUS - IMPUTATION INDICATOR\n",
    "IRPRVHLT \tPRIVATE HEALTH INSURANCE - IMPUTATION REVISED\n",
    "IIPRVHLT \tPRIVATE HEALTH INSURANCE - IMPUTATION INDICATOR\n",
    "IROTHHLT \tOTHER HEALTH INSURANCE - IMPUTATION REVISED\n",
    "IIOTHHLT \tOTHER HEALTH INSURANCE - IMPUTATION INDICATOR\n",
    "HLCALLFG \tFLAG IF EVERY FORM OF HEALTH INS REPORTED\n",
    "HLCALL99 \tYES TO MEDICARE/MEDICAID/CHAMPUS/PRVHLTIN\n",
    "ANYHLTI2 \tCOVERED BY ANY HEALTH INSURANCE - RECODE\n",
    "IRINSUR4 \tRC-OVERALL HEALTH INSURANCE - IMPUTATION REVISED\n",
    "IIINSUR4 \tRC-OVERALL HEALTH INSURANCE - IMPUTATION INDICATOR\n",
    "OTHINS      RC-OTHER HEALTH INSURANCE\n",
    "CELLNOTCL \tNOT A CELL PHONE\n",
    "CELLWRKNG \tWORKING CELL PHONE\n",
    "IRFAMSOC \tFAM RECEIVE SS OR RR PAYMENTS - IMPUTATION REVISED\n",
    "IIFAMSOC \tFAM RECEIVE SS OR RR PAYMENTS - IMPUTATION INDICATOR\n",
    "IRFAMSSI \tFAM RECEIVE SSI - IMPUTATION REVISED\n",
    "IIFAMSSI \tFAM RECEIVE SSI - IMPUTATION INDICATOR\n",
    "IRFSTAMP \tRESP/OTH FAM MEM REC FOOD STAMPS - IMPUTATION REVISED\n",
    "IIFSTAMP \tRESP/OTH FAM MEM REC FOOD STAMPS - IMPUTATION INDICATOR\n",
    "IRFAMPMT \tFAM RECEIVE PUBLIC ASSIST - IMPUTATION REVISED\n",
    "IIFAMPMT \tFAM RECEIVE PUBLIC ASSIST - IMPUTATION INDICATOR\n",
    "IRFAMSVC \tFAM REC WELFARE/JOB PL/CHILDCARE - IMPUTATION REVISED\n",
    "IIFAMSVC \tFAM REC WELFARE/JOB PL/CHILDCARE - IMPUTATION INDICATOR\n",
    "IRWELMOS \tIMP. REVISED - NO.OF MONTHS ON WELFARE\n",
    "IIWELMOS \tNO OF MONTHS ON WELFARE - IMPUTATION INDICATOR\n",
    "IRPINC3 \tRESP TOT INCOME (FINER CAT) - IMP REV\n",
    "IRFAMIN3 \tRECODE - IMP.REVISED - TOT FAM INCOME\n",
    "IIPINC3 \tRESP TOT INCOME (FINER CAT) - IMP INDIC\n",
    "IIFAMIN3 \tIRFAMIN3 - IMPUTATION INDICATOR\n",
    "GOVTPROG \tRC-PARTICIPATED IN ONE OR MORE GOVT ASSIST PROGRAMS\n",
    "POVERTY3 \tRC-POVERTY LEVEL\n",
    "TOOLONG \tRESP SAID INTERVIEW WAS TOO LONG\n",
    "TROUBUND \tDID RESP HAVE TROUBLE UNDERSTANDING INTERVIEW\n",
    "PDEN10 \t    POPULATION DENSITY 2010\n",
    "COUTYP2 \tCOUNTY METRO/NONMETRO STATUS\n",
    "MAIIN102 \tMAJORITY AMER INDIAN AREA INDICATOR FOR SEGMENT\n",
    "AIIND102 \tAMER INDIAN AREA INDICATOR\n",
    "ANALWT_C \tFIN PRSN-LEVEL SIMPLE WGHT\n",
    "VESTR \t    ANALYSIS STRATUM\n",
    "VEREP \t    ANALYSIS REPLICATE\n",
    "Criminal \tTarget Variable"
   ]
  },
  {
   "cell_type": "code",
   "execution_count": 5,
   "metadata": {},
   "outputs": [
    {
     "data": {
      "text/html": [
       "<div>\n",
       "<style scoped>\n",
       "    .dataframe tbody tr th:only-of-type {\n",
       "        vertical-align: middle;\n",
       "    }\n",
       "\n",
       "    .dataframe tbody tr th {\n",
       "        vertical-align: top;\n",
       "    }\n",
       "\n",
       "    .dataframe thead th {\n",
       "        text-align: right;\n",
       "    }\n",
       "</style>\n",
       "<table border=\"1\" class=\"dataframe\">\n",
       "  <thead>\n",
       "    <tr style=\"text-align: right;\">\n",
       "      <th></th>\n",
       "      <th>PERID</th>\n",
       "      <th>IFATHER</th>\n",
       "      <th>NRCH17_2</th>\n",
       "      <th>IRHHSIZ2</th>\n",
       "      <th>IIHHSIZ2</th>\n",
       "      <th>IRKI17_2</th>\n",
       "      <th>IIKI17_2</th>\n",
       "      <th>IRHH65_2</th>\n",
       "      <th>IIHH65_2</th>\n",
       "      <th>PRXRETRY</th>\n",
       "      <th>...</th>\n",
       "      <th>TOOLONG</th>\n",
       "      <th>TROUBUND</th>\n",
       "      <th>PDEN10</th>\n",
       "      <th>COUTYP2</th>\n",
       "      <th>MAIIN102</th>\n",
       "      <th>AIIND102</th>\n",
       "      <th>ANALWT_C</th>\n",
       "      <th>VESTR</th>\n",
       "      <th>VEREP</th>\n",
       "      <th>Criminal</th>\n",
       "    </tr>\n",
       "  </thead>\n",
       "  <tbody>\n",
       "    <tr>\n",
       "      <th>count</th>\n",
       "      <td>4.571800e+04</td>\n",
       "      <td>45718.000000</td>\n",
       "      <td>45718.000000</td>\n",
       "      <td>45718.000000</td>\n",
       "      <td>45718.000000</td>\n",
       "      <td>45718.000000</td>\n",
       "      <td>45718.000000</td>\n",
       "      <td>45718.000000</td>\n",
       "      <td>45718.000000</td>\n",
       "      <td>45718.000000</td>\n",
       "      <td>...</td>\n",
       "      <td>45718.000000</td>\n",
       "      <td>45718.000000</td>\n",
       "      <td>45718.000000</td>\n",
       "      <td>45718.000000</td>\n",
       "      <td>45718.000000</td>\n",
       "      <td>45718.000000</td>\n",
       "      <td>45718.000000</td>\n",
       "      <td>45718.000000</td>\n",
       "      <td>45718.000000</td>\n",
       "      <td>45718.000000</td>\n",
       "    </tr>\n",
       "    <tr>\n",
       "      <th>mean</th>\n",
       "      <td>5.445446e+07</td>\n",
       "      <td>3.355549</td>\n",
       "      <td>0.476486</td>\n",
       "      <td>3.426375</td>\n",
       "      <td>1.001706</td>\n",
       "      <td>2.084124</td>\n",
       "      <td>1.007437</td>\n",
       "      <td>1.162606</td>\n",
       "      <td>1.011024</td>\n",
       "      <td>97.394943</td>\n",
       "      <td>...</td>\n",
       "      <td>2.219410</td>\n",
       "      <td>2.234940</td>\n",
       "      <td>1.646135</td>\n",
       "      <td>1.764666</td>\n",
       "      <td>1.978936</td>\n",
       "      <td>1.978739</td>\n",
       "      <td>4692.661179</td>\n",
       "      <td>40023.739118</td>\n",
       "      <td>1.493854</td>\n",
       "      <td>0.069447</td>\n",
       "    </tr>\n",
       "    <tr>\n",
       "      <th>std</th>\n",
       "      <td>2.553911e+07</td>\n",
       "      <td>1.176651</td>\n",
       "      <td>0.888472</td>\n",
       "      <td>1.427420</td>\n",
       "      <td>0.061314</td>\n",
       "      <td>1.102988</td>\n",
       "      <td>0.123162</td>\n",
       "      <td>0.469029</td>\n",
       "      <td>0.146444</td>\n",
       "      <td>12.355156</td>\n",
       "      <td>...</td>\n",
       "      <td>5.295784</td>\n",
       "      <td>5.293651</td>\n",
       "      <td>0.618403</td>\n",
       "      <td>0.771411</td>\n",
       "      <td>0.144510</td>\n",
       "      <td>0.145161</td>\n",
       "      <td>5724.659486</td>\n",
       "      <td>265.140430</td>\n",
       "      <td>0.500230</td>\n",
       "      <td>0.254216</td>\n",
       "    </tr>\n",
       "    <tr>\n",
       "      <th>min</th>\n",
       "      <td>1.000222e+07</td>\n",
       "      <td>-1.000000</td>\n",
       "      <td>-1.000000</td>\n",
       "      <td>-1.000000</td>\n",
       "      <td>-1.000000</td>\n",
       "      <td>-1.000000</td>\n",
       "      <td>-1.000000</td>\n",
       "      <td>-1.000000</td>\n",
       "      <td>-1.000000</td>\n",
       "      <td>-1.000000</td>\n",
       "      <td>...</td>\n",
       "      <td>-1.000000</td>\n",
       "      <td>-1.000000</td>\n",
       "      <td>-1.000000</td>\n",
       "      <td>-1.000000</td>\n",
       "      <td>-1.000000</td>\n",
       "      <td>-1.000000</td>\n",
       "      <td>-1.000000</td>\n",
       "      <td>-1.000000</td>\n",
       "      <td>-1.000000</td>\n",
       "      <td>0.000000</td>\n",
       "    </tr>\n",
       "    <tr>\n",
       "      <th>25%</th>\n",
       "      <td>3.233189e+07</td>\n",
       "      <td>4.000000</td>\n",
       "      <td>0.000000</td>\n",
       "      <td>2.000000</td>\n",
       "      <td>1.000000</td>\n",
       "      <td>1.000000</td>\n",
       "      <td>1.000000</td>\n",
       "      <td>1.000000</td>\n",
       "      <td>1.000000</td>\n",
       "      <td>99.000000</td>\n",
       "      <td>...</td>\n",
       "      <td>2.000000</td>\n",
       "      <td>2.000000</td>\n",
       "      <td>1.000000</td>\n",
       "      <td>1.000000</td>\n",
       "      <td>2.000000</td>\n",
       "      <td>2.000000</td>\n",
       "      <td>1252.396472</td>\n",
       "      <td>40013.000000</td>\n",
       "      <td>1.000000</td>\n",
       "      <td>0.000000</td>\n",
       "    </tr>\n",
       "    <tr>\n",
       "      <th>50%</th>\n",
       "      <td>5.411043e+07</td>\n",
       "      <td>4.000000</td>\n",
       "      <td>0.000000</td>\n",
       "      <td>3.000000</td>\n",
       "      <td>1.000000</td>\n",
       "      <td>2.000000</td>\n",
       "      <td>1.000000</td>\n",
       "      <td>1.000000</td>\n",
       "      <td>1.000000</td>\n",
       "      <td>99.000000</td>\n",
       "      <td>...</td>\n",
       "      <td>2.000000</td>\n",
       "      <td>2.000000</td>\n",
       "      <td>2.000000</td>\n",
       "      <td>2.000000</td>\n",
       "      <td>2.000000</td>\n",
       "      <td>2.000000</td>\n",
       "      <td>2719.335160</td>\n",
       "      <td>40025.000000</td>\n",
       "      <td>1.000000</td>\n",
       "      <td>0.000000</td>\n",
       "    </tr>\n",
       "    <tr>\n",
       "      <th>75%</th>\n",
       "      <td>7.612731e+07</td>\n",
       "      <td>4.000000</td>\n",
       "      <td>1.000000</td>\n",
       "      <td>4.000000</td>\n",
       "      <td>1.000000</td>\n",
       "      <td>3.000000</td>\n",
       "      <td>1.000000</td>\n",
       "      <td>1.000000</td>\n",
       "      <td>1.000000</td>\n",
       "      <td>99.000000</td>\n",
       "      <td>...</td>\n",
       "      <td>2.000000</td>\n",
       "      <td>2.000000</td>\n",
       "      <td>2.000000</td>\n",
       "      <td>2.000000</td>\n",
       "      <td>2.000000</td>\n",
       "      <td>2.000000</td>\n",
       "      <td>5765.810794</td>\n",
       "      <td>40039.000000</td>\n",
       "      <td>2.000000</td>\n",
       "      <td>0.000000</td>\n",
       "    </tr>\n",
       "    <tr>\n",
       "      <th>max</th>\n",
       "      <td>9.999956e+07</td>\n",
       "      <td>4.000000</td>\n",
       "      <td>3.000000</td>\n",
       "      <td>6.000000</td>\n",
       "      <td>3.000000</td>\n",
       "      <td>4.000000</td>\n",
       "      <td>3.000000</td>\n",
       "      <td>3.000000</td>\n",
       "      <td>3.000000</td>\n",
       "      <td>99.000000</td>\n",
       "      <td>...</td>\n",
       "      <td>98.000000</td>\n",
       "      <td>98.000000</td>\n",
       "      <td>3.000000</td>\n",
       "      <td>3.000000</td>\n",
       "      <td>2.000000</td>\n",
       "      <td>2.000000</td>\n",
       "      <td>109100.623000</td>\n",
       "      <td>40050.000000</td>\n",
       "      <td>2.000000</td>\n",
       "      <td>1.000000</td>\n",
       "    </tr>\n",
       "  </tbody>\n",
       "</table>\n",
       "<p>8 rows × 72 columns</p>\n",
       "</div>"
      ],
      "text/plain": [
       "              PERID       IFATHER      NRCH17_2      IRHHSIZ2      IIHHSIZ2  \\\n",
       "count  4.571800e+04  45718.000000  45718.000000  45718.000000  45718.000000   \n",
       "mean   5.445446e+07      3.355549      0.476486      3.426375      1.001706   \n",
       "std    2.553911e+07      1.176651      0.888472      1.427420      0.061314   \n",
       "min    1.000222e+07     -1.000000     -1.000000     -1.000000     -1.000000   \n",
       "25%    3.233189e+07      4.000000      0.000000      2.000000      1.000000   \n",
       "50%    5.411043e+07      4.000000      0.000000      3.000000      1.000000   \n",
       "75%    7.612731e+07      4.000000      1.000000      4.000000      1.000000   \n",
       "max    9.999956e+07      4.000000      3.000000      6.000000      3.000000   \n",
       "\n",
       "           IRKI17_2      IIKI17_2      IRHH65_2      IIHH65_2      PRXRETRY  \\\n",
       "count  45718.000000  45718.000000  45718.000000  45718.000000  45718.000000   \n",
       "mean       2.084124      1.007437      1.162606      1.011024     97.394943   \n",
       "std        1.102988      0.123162      0.469029      0.146444     12.355156   \n",
       "min       -1.000000     -1.000000     -1.000000     -1.000000     -1.000000   \n",
       "25%        1.000000      1.000000      1.000000      1.000000     99.000000   \n",
       "50%        2.000000      1.000000      1.000000      1.000000     99.000000   \n",
       "75%        3.000000      1.000000      1.000000      1.000000     99.000000   \n",
       "max        4.000000      3.000000      3.000000      3.000000     99.000000   \n",
       "\n",
       "           ...            TOOLONG      TROUBUND        PDEN10       COUTYP2  \\\n",
       "count      ...       45718.000000  45718.000000  45718.000000  45718.000000   \n",
       "mean       ...           2.219410      2.234940      1.646135      1.764666   \n",
       "std        ...           5.295784      5.293651      0.618403      0.771411   \n",
       "min        ...          -1.000000     -1.000000     -1.000000     -1.000000   \n",
       "25%        ...           2.000000      2.000000      1.000000      1.000000   \n",
       "50%        ...           2.000000      2.000000      2.000000      2.000000   \n",
       "75%        ...           2.000000      2.000000      2.000000      2.000000   \n",
       "max        ...          98.000000     98.000000      3.000000      3.000000   \n",
       "\n",
       "           MAIIN102      AIIND102       ANALWT_C         VESTR         VEREP  \\\n",
       "count  45718.000000  45718.000000   45718.000000  45718.000000  45718.000000   \n",
       "mean       1.978936      1.978739    4692.661179  40023.739118      1.493854   \n",
       "std        0.144510      0.145161    5724.659486    265.140430      0.500230   \n",
       "min       -1.000000     -1.000000      -1.000000     -1.000000     -1.000000   \n",
       "25%        2.000000      2.000000    1252.396472  40013.000000      1.000000   \n",
       "50%        2.000000      2.000000    2719.335160  40025.000000      1.000000   \n",
       "75%        2.000000      2.000000    5765.810794  40039.000000      2.000000   \n",
       "max        2.000000      2.000000  109100.623000  40050.000000      2.000000   \n",
       "\n",
       "           Criminal  \n",
       "count  45718.000000  \n",
       "mean       0.069447  \n",
       "std        0.254216  \n",
       "min        0.000000  \n",
       "25%        0.000000  \n",
       "50%        0.000000  \n",
       "75%        0.000000  \n",
       "max        1.000000  \n",
       "\n",
       "[8 rows x 72 columns]"
      ]
     },
     "execution_count": 5,
     "metadata": {},
     "output_type": "execute_result"
    }
   ],
   "source": [
    "train_df.describe()"
   ]
  },
  {
   "cell_type": "markdown",
   "metadata": {},
   "source": [
    "Above we can see that 0.069% out of the training-set are the criminals."
   ]
  },
  {
   "cell_type": "code",
   "execution_count": 6,
   "metadata": {},
   "outputs": [
    {
     "data": {
      "text/html": [
       "<div>\n",
       "<style scoped>\n",
       "    .dataframe tbody tr th:only-of-type {\n",
       "        vertical-align: middle;\n",
       "    }\n",
       "\n",
       "    .dataframe tbody tr th {\n",
       "        vertical-align: top;\n",
       "    }\n",
       "\n",
       "    .dataframe thead th {\n",
       "        text-align: right;\n",
       "    }\n",
       "</style>\n",
       "<table border=\"1\" class=\"dataframe\">\n",
       "  <thead>\n",
       "    <tr style=\"text-align: right;\">\n",
       "      <th></th>\n",
       "      <th>PERID</th>\n",
       "      <th>IFATHER</th>\n",
       "      <th>NRCH17_2</th>\n",
       "      <th>IRHHSIZ2</th>\n",
       "      <th>IIHHSIZ2</th>\n",
       "      <th>IRKI17_2</th>\n",
       "      <th>IIKI17_2</th>\n",
       "      <th>IRHH65_2</th>\n",
       "      <th>IIHH65_2</th>\n",
       "      <th>PRXRETRY</th>\n",
       "      <th>...</th>\n",
       "      <th>TOOLONG</th>\n",
       "      <th>TROUBUND</th>\n",
       "      <th>PDEN10</th>\n",
       "      <th>COUTYP2</th>\n",
       "      <th>MAIIN102</th>\n",
       "      <th>AIIND102</th>\n",
       "      <th>ANALWT_C</th>\n",
       "      <th>VESTR</th>\n",
       "      <th>VEREP</th>\n",
       "      <th>Criminal</th>\n",
       "    </tr>\n",
       "  </thead>\n",
       "  <tbody>\n",
       "    <tr>\n",
       "      <th>0</th>\n",
       "      <td>25095143</td>\n",
       "      <td>4</td>\n",
       "      <td>2</td>\n",
       "      <td>4</td>\n",
       "      <td>1</td>\n",
       "      <td>3</td>\n",
       "      <td>1</td>\n",
       "      <td>1</td>\n",
       "      <td>1</td>\n",
       "      <td>99</td>\n",
       "      <td>...</td>\n",
       "      <td>1</td>\n",
       "      <td>2</td>\n",
       "      <td>1</td>\n",
       "      <td>1</td>\n",
       "      <td>2</td>\n",
       "      <td>2</td>\n",
       "      <td>3884.805998</td>\n",
       "      <td>40026</td>\n",
       "      <td>1</td>\n",
       "      <td>0</td>\n",
       "    </tr>\n",
       "    <tr>\n",
       "      <th>1</th>\n",
       "      <td>13005143</td>\n",
       "      <td>4</td>\n",
       "      <td>1</td>\n",
       "      <td>3</td>\n",
       "      <td>1</td>\n",
       "      <td>2</td>\n",
       "      <td>1</td>\n",
       "      <td>1</td>\n",
       "      <td>1</td>\n",
       "      <td>99</td>\n",
       "      <td>...</td>\n",
       "      <td>2</td>\n",
       "      <td>2</td>\n",
       "      <td>2</td>\n",
       "      <td>3</td>\n",
       "      <td>2</td>\n",
       "      <td>2</td>\n",
       "      <td>1627.108106</td>\n",
       "      <td>40015</td>\n",
       "      <td>2</td>\n",
       "      <td>1</td>\n",
       "    </tr>\n",
       "    <tr>\n",
       "      <th>2</th>\n",
       "      <td>67415143</td>\n",
       "      <td>4</td>\n",
       "      <td>1</td>\n",
       "      <td>2</td>\n",
       "      <td>1</td>\n",
       "      <td>2</td>\n",
       "      <td>1</td>\n",
       "      <td>1</td>\n",
       "      <td>1</td>\n",
       "      <td>99</td>\n",
       "      <td>...</td>\n",
       "      <td>2</td>\n",
       "      <td>2</td>\n",
       "      <td>2</td>\n",
       "      <td>3</td>\n",
       "      <td>2</td>\n",
       "      <td>2</td>\n",
       "      <td>4344.957980</td>\n",
       "      <td>40024</td>\n",
       "      <td>1</td>\n",
       "      <td>0</td>\n",
       "    </tr>\n",
       "    <tr>\n",
       "      <th>3</th>\n",
       "      <td>70925143</td>\n",
       "      <td>4</td>\n",
       "      <td>0</td>\n",
       "      <td>2</td>\n",
       "      <td>1</td>\n",
       "      <td>1</td>\n",
       "      <td>1</td>\n",
       "      <td>1</td>\n",
       "      <td>1</td>\n",
       "      <td>99</td>\n",
       "      <td>...</td>\n",
       "      <td>2</td>\n",
       "      <td>2</td>\n",
       "      <td>1</td>\n",
       "      <td>1</td>\n",
       "      <td>2</td>\n",
       "      <td>2</td>\n",
       "      <td>792.521931</td>\n",
       "      <td>40027</td>\n",
       "      <td>1</td>\n",
       "      <td>0</td>\n",
       "    </tr>\n",
       "    <tr>\n",
       "      <th>4</th>\n",
       "      <td>75235143</td>\n",
       "      <td>1</td>\n",
       "      <td>0</td>\n",
       "      <td>6</td>\n",
       "      <td>1</td>\n",
       "      <td>4</td>\n",
       "      <td>1</td>\n",
       "      <td>1</td>\n",
       "      <td>1</td>\n",
       "      <td>99</td>\n",
       "      <td>...</td>\n",
       "      <td>2</td>\n",
       "      <td>2</td>\n",
       "      <td>2</td>\n",
       "      <td>2</td>\n",
       "      <td>2</td>\n",
       "      <td>2</td>\n",
       "      <td>1518.118526</td>\n",
       "      <td>40001</td>\n",
       "      <td>2</td>\n",
       "      <td>0</td>\n",
       "    </tr>\n",
       "  </tbody>\n",
       "</table>\n",
       "<p>5 rows × 72 columns</p>\n",
       "</div>"
      ],
      "text/plain": [
       "      PERID  IFATHER  NRCH17_2  IRHHSIZ2  IIHHSIZ2  IRKI17_2  IIKI17_2  \\\n",
       "0  25095143        4         2         4         1         3         1   \n",
       "1  13005143        4         1         3         1         2         1   \n",
       "2  67415143        4         1         2         1         2         1   \n",
       "3  70925143        4         0         2         1         1         1   \n",
       "4  75235143        1         0         6         1         4         1   \n",
       "\n",
       "   IRHH65_2  IIHH65_2  PRXRETRY    ...     TOOLONG  TROUBUND  PDEN10  COUTYP2  \\\n",
       "0         1         1        99    ...           1         2       1        1   \n",
       "1         1         1        99    ...           2         2       2        3   \n",
       "2         1         1        99    ...           2         2       2        3   \n",
       "3         1         1        99    ...           2         2       1        1   \n",
       "4         1         1        99    ...           2         2       2        2   \n",
       "\n",
       "   MAIIN102  AIIND102     ANALWT_C  VESTR  VEREP  Criminal  \n",
       "0         2         2  3884.805998  40026      1         0  \n",
       "1         2         2  1627.108106  40015      2         1  \n",
       "2         2         2  4344.957980  40024      1         0  \n",
       "3         2         2   792.521931  40027      1         0  \n",
       "4         2         2  1518.118526  40001      2         0  \n",
       "\n",
       "[5 rows x 72 columns]"
      ]
     },
     "execution_count": 6,
     "metadata": {},
     "output_type": "execute_result"
    }
   ],
   "source": [
    "train_df.head()"
   ]
  },
  {
   "cell_type": "markdown",
   "metadata": {},
   "source": [
    "# Data Preprocessing"
   ]
  },
  {
   "cell_type": "markdown",
   "metadata": {},
   "source": [
    "##    Missing Data:"
   ]
  },
  {
   "cell_type": "markdown",
   "metadata": {},
   "source": [
    "Let's take a more detailed look at what data is actually missing:"
   ]
  },
  {
   "cell_type": "code",
   "execution_count": 7,
   "metadata": {},
   "outputs": [
    {
     "name": "stdout",
     "output_type": "stream",
     "text": [
      "PERID = 0\n",
      "IFATHER = 0\n",
      "NRCH17_2 = 0\n",
      "IRHHSIZ2 = 0\n",
      "IIHHSIZ2 = 0\n",
      "IRKI17_2 = 0\n",
      "IIKI17_2 = 0\n",
      "IRHH65_2 = 0\n",
      "IIHH65_2 = 0\n",
      "PRXRETRY = 0\n",
      "PRXYDATA = 0\n",
      "MEDICARE = 0\n",
      "CAIDCHIP = 0\n",
      "CHAMPUS = 0\n",
      "PRVHLTIN = 0\n",
      "GRPHLTIN = 0\n",
      "HLTINNOS = 0\n",
      "HLCNOTYR = 0\n",
      "HLCNOTMO = 0\n",
      "HLCLAST = 0\n",
      "HLLOSRSN = 0\n",
      "HLNVCOST = 0\n",
      "HLNVOFFR = 0\n",
      "HLNVREF = 0\n",
      "HLNVNEED = 0\n",
      "HLNVSOR = 0\n",
      "IRMCDCHP = 0\n",
      "IIMCDCHP = 0\n",
      "IRMEDICR = 0\n",
      "IIMEDICR = 0\n",
      "IRCHMPUS = 0\n",
      "IICHMPUS = 0\n",
      "IRPRVHLT = 0\n",
      "IIPRVHLT = 0\n",
      "IROTHHLT = 0\n",
      "IIOTHHLT = 0\n",
      "HLCALLFG = 0\n",
      "HLCALL99 = 0\n",
      "ANYHLTI2 = 0\n",
      "IRINSUR4 = 0\n",
      "IIINSUR4 = 0\n",
      "OTHINS = 0\n",
      "CELLNOTCL = 0\n",
      "CELLWRKNG = 0\n",
      "IRFAMSOC = 0\n",
      "IIFAMSOC = 0\n",
      "IRFAMSSI = 0\n",
      "IIFAMSSI = 0\n",
      "IRFSTAMP = 0\n",
      "IIFSTAMP = 0\n",
      "IRFAMPMT = 0\n",
      "IIFAMPMT = 0\n",
      "IRFAMSVC = 0\n",
      "IIFAMSVC = 0\n",
      "IRWELMOS = 0\n",
      "IIWELMOS = 0\n",
      "IRPINC3 = 0\n",
      "IRFAMIN3 = 0\n",
      "IIPINC3 = 0\n",
      "IIFAMIN3 = 0\n",
      "GOVTPROG = 0\n",
      "POVERTY3 = 0\n",
      "TOOLONG = 0\n",
      "TROUBUND = 0\n",
      "PDEN10 = 0\n",
      "COUTYP2 = 0\n",
      "MAIIN102 = 0\n",
      "AIIND102 = 0\n",
      "ANALWT_C = 0\n",
      "VESTR = 0\n",
      "VEREP = 0\n",
      "Criminal = 0\n"
     ]
    }
   ],
   "source": [
    "feature_labels = [] \n",
    "missing_values = []\n",
    "\n",
    "for col in train_df.columns: \n",
    "    feature_labels.append(col)\n",
    "    missing_values.append(train_df[col].isnull().values.ravel().sum()) \n",
    "    print(col,\"=\", missing_values[-1])\n",
    "\n"
   ]
  },
  {
   "cell_type": "markdown",
   "metadata": {},
   "source": [
    "## Corralation Map"
   ]
  },
  {
   "cell_type": "code",
   "execution_count": 8,
   "metadata": {},
   "outputs": [
    {
     "data": {
      "image/png": "[encoded data removed]",
      "text/plain": [
       "<matplotlib.figure.Figure at 0x1a86decb240>"
      ]
     },
     "metadata": {},
     "output_type": "display_data"
    }
   ],
   "source": [
    "#correlation matrix\n",
    "corrmat = train_df.corr()\n",
    "f, ax = plt.subplots(figsize=(30, 14))\n",
    "sns.heatmap(corrmat, vmax=.8);\n",
    "#sns.heatmap(corrmat, vmax=.8, annot=True);"
   ]
  },
  {
   "cell_type": "code",
   "execution_count": 9,
   "metadata": {},
   "outputs": [
    {
     "data": {
      "text/plain": [
       " 99    32502\n",
       " 1     13079\n",
       " 98       61\n",
       " 2        38\n",
       " 94       33\n",
       " 97        3\n",
       "-1         2\n",
       "Name: PRXYDATA, dtype: int64"
      ]
     },
     "execution_count": 9,
     "metadata": {},
     "output_type": "execute_result"
    }
   ],
   "source": [
    "train_df['PRXYDATA'].value_counts()"
   ]
  },
  {
   "cell_type": "code",
   "execution_count": 10,
   "metadata": {},
   "outputs": [
    {
     "data": {
      "text/plain": [
       " 1     24551\n",
       " 99    17567\n",
       " 2      3205\n",
       " 98      275\n",
       " 94       70\n",
       " 97       45\n",
       " 85        3\n",
       "-1         2\n",
       "Name: GRPHLTIN, dtype: int64"
      ]
     },
     "execution_count": 10,
     "metadata": {},
     "output_type": "execute_result"
    }
   ],
   "source": [
    "train_df['GRPHLTIN'].value_counts() "
   ]
  },
  {
   "cell_type": "code",
   "execution_count": 11,
   "metadata": {},
   "outputs": [
    {
     "data": {
      "image/png": "[encoded data removed]",
      "text/plain": [
       "<matplotlib.figure.Figure at 0x1a86c6d8eb8>"
      ]
     },
     "metadata": {},
     "output_type": "display_data"
    }
   ],
   "source": [
    "axes = sns.factorplot('PRXYDATA','Criminal', \n",
    "                      data=train_df, kind = 'bar', aspect = 2.5, )"
   ]
  },
  {
   "cell_type": "markdown",
   "metadata": {},
   "source": [
    "## Corralation between Criminal and Other Features"
   ]
  },
  {
   "cell_type": "code",
   "execution_count": 12,
   "metadata": {},
   "outputs": [
    {
     "name": "stdout",
     "output_type": "stream",
     "text": [
      "Find most important features relative to target\n",
      "Criminal    1.000000\n",
      "IRHH65_2    0.112589\n",
      "HLTINNOS    0.106967\n",
      "IROTHHLT    0.104196\n",
      "IIPRVHLT    0.103360\n",
      "IIOTHHLT    0.095032\n",
      "HLCLAST     0.091338\n",
      "PRVHLTIN    0.089960\n",
      "IRMCDCHP    0.081704\n",
      "HLLOSRSN    0.081006\n",
      "CAIDCHIP    0.052671\n",
      "IIINSUR4    0.049871\n",
      "IIMCDCHP    0.048222\n",
      "ANYHLTI2    0.046698\n",
      "CHAMPUS     0.040844\n",
      "IICHMPUS    0.040529\n",
      "HLNVREF     0.038382\n",
      "HLNVCOST    0.038380\n",
      "HLNVSOR     0.038379\n",
      "HLNVOFFR    0.038379\n",
      "HLNVNEED    0.038378\n",
      "IIFAMSSI    0.038064\n",
      "IIMEDICR    0.037516\n",
      "IIFAMIN3    0.037193\n",
      "IIFAMSVC    0.035574\n",
      "IIFAMPMT    0.034474\n",
      "PDEN10      0.033048\n",
      "COUTYP2     0.031587\n",
      "MEDICARE    0.031178\n",
      "IIPINC3     0.029628\n",
      "              ...   \n",
      "PRXRETRY    0.004966\n",
      "IRFAMPMT    0.004810\n",
      "IIHH65_2    0.004112\n",
      "VESTR       0.002355\n",
      "MAIIN102    0.002309\n",
      "IRWELMOS    0.001917\n",
      "GOVTPROG    0.001719\n",
      "AIIND102    0.001484\n",
      "PERID      -0.000396\n",
      "IRFAMSVC   -0.000553\n",
      "IRFAMSSI   -0.002666\n",
      "IIWELMOS   -0.007639\n",
      "VEREP      -0.007738\n",
      "HLCALL99   -0.034450\n",
      "HLCALLFG   -0.034450\n",
      "PRXYDATA   -0.038797\n",
      "IRKI17_2   -0.039168\n",
      "IFATHER    -0.049935\n",
      "IRHHSIZ2   -0.068281\n",
      "HLCNOTYR   -0.069716\n",
      "OTHINS     -0.075629\n",
      "IRINSUR4   -0.088959\n",
      "NRCH17_2   -0.091212\n",
      "IRFAMSOC   -0.110676\n",
      "IRPINC3    -0.128830\n",
      "IRMEDICR   -0.144131\n",
      "POVERTY3   -0.148304\n",
      "GRPHLTIN   -0.194188\n",
      "IRFAMIN3   -0.194889\n",
      "IRPRVHLT   -0.204797\n",
      "Name: Criminal, Length: 72, dtype: float64\n"
     ]
    }
   ],
   "source": [
    "print(\"Find most important features relative to target\")\n",
    "corr = train_df.corr()\n",
    "corr.sort_values([\"Criminal\"], ascending = False, inplace = True)\n",
    "print(corr.Criminal)\n",
    "#this you can see at the time of heatmap also."
   ]
  },
  {
   "cell_type": "code",
   "execution_count": 49,
   "metadata": {},
   "outputs": [
    {
     "name": "stdout",
     "output_type": "stream",
     "text": [
      "Before (45718, 72) (11430, 71) (45718, 72) (11430, 71)\n"
     ]
    }
   ],
   "source": [
    "print(\"Before\", train_df.shape, test_df.shape, combine[0].shape, combine[1].shape)"
   ]
  },
  {
   "cell_type": "markdown",
   "metadata": {},
   "source": [
    "## Dropping Highly Corralated values"
   ]
  },
  {
   "cell_type": "code",
   "execution_count": 50,
   "metadata": {},
   "outputs": [],
   "source": [
    "train_df = train_df.drop([\"IRHH65_2\",\"HLTINNOS\",\"IROTHHLT\",\"IIPRVHLT\"], axis=1)"
   ]
  },
  {
   "cell_type": "code",
   "execution_count": 51,
   "metadata": {},
   "outputs": [],
   "source": [
    "test_df = test_df.drop([\"IRHH65_2\",\"HLTINNOS\",\"IROTHHLT\",\"IIPRVHLT\"], axis=1)"
   ]
  },
  {
   "cell_type": "code",
   "execution_count": 52,
   "metadata": {},
   "outputs": [
    {
     "name": "stdout",
     "output_type": "stream",
     "text": [
      "<class 'pandas.core.frame.DataFrame'>\n"
     ]
    }
   ],
   "source": [
    "print (type(train_df))"
   ]
  },
  {
   "cell_type": "code",
   "execution_count": 53,
   "metadata": {},
   "outputs": [
    {
     "name": "stdout",
     "output_type": "stream",
     "text": [
      "Before (45718, 68) (11430, 67) (45718, 72) (11430, 71)\n"
     ]
    }
   ],
   "source": [
    "print(\"Before\", train_df.shape, test_df.shape, combine[0].shape, combine[1].shape)"
   ]
  },
  {
   "cell_type": "code",
   "execution_count": 54,
   "metadata": {},
   "outputs": [
    {
     "name": "stdout",
     "output_type": "stream",
     "text": [
      "['PERID' 'IFATHER' 'NRCH17_2' 'IRHHSIZ2' 'IIHHSIZ2' 'IRKI17_2' 'IIKI17_2'\n",
      " 'IIHH65_2' 'PRXRETRY' 'PRXYDATA' 'MEDICARE' 'CAIDCHIP' 'CHAMPUS'\n",
      " 'PRVHLTIN' 'GRPHLTIN' 'HLCNOTYR' 'HLCNOTMO' 'HLCLAST' 'HLLOSRSN'\n",
      " 'HLNVCOST' 'HLNVOFFR' 'HLNVREF' 'HLNVNEED' 'HLNVSOR' 'IRMCDCHP'\n",
      " 'IIMCDCHP' 'IRMEDICR' 'IIMEDICR' 'IRCHMPUS' 'IICHMPUS' 'IRPRVHLT'\n",
      " 'IIOTHHLT' 'HLCALLFG' 'HLCALL99' 'ANYHLTI2' 'IRINSUR4' 'IIINSUR4'\n",
      " 'OTHINS' 'CELLNOTCL' 'CELLWRKNG' 'IRFAMSOC' 'IIFAMSOC' 'IRFAMSSI'\n",
      " 'IIFAMSSI' 'IRFSTAMP' 'IIFSTAMP' 'IRFAMPMT' 'IIFAMPMT' 'IRFAMSVC'\n",
      " 'IIFAMSVC' 'IRWELMOS' 'IIWELMOS' 'IRPINC3' 'IRFAMIN3' 'IIPINC3'\n",
      " 'IIFAMIN3' 'GOVTPROG' 'POVERTY3' 'TOOLONG' 'TROUBUND' 'PDEN10' 'COUTYP2'\n",
      " 'MAIIN102' 'AIIND102' 'ANALWT_C' 'VESTR' 'VEREP' 'Criminal']\n"
     ]
    }
   ],
   "source": [
    "print(train_df.columns.values)"
   ]
  },
  {
   "cell_type": "markdown",
   "metadata": {},
   "source": [
    "# Building Machine Learning Models"
   ]
  },
  {
   "cell_type": "code",
   "execution_count": 55,
   "metadata": {},
   "outputs": [],
   "source": [
    "train_df = train_df.drop(\"PERID\", axis=1)"
   ]
  },
  {
   "cell_type": "code",
   "execution_count": 56,
   "metadata": {},
   "outputs": [
    {
     "data": {
      "text/plain": [
       "((45718, 66), (45718,), (11430, 66))"
      ]
     },
     "execution_count": 56,
     "metadata": {},
     "output_type": "execute_result"
    }
   ],
   "source": [
    "X_train = train_df.drop(\"Criminal\", axis=1)\n",
    "Y_train = train_df[\"Criminal\"]\n",
    "X_test  = test_df.drop(\"PERID\", axis=1).copy()\n",
    "X_train.shape, Y_train.shape, X_test.shape"
   ]
  },
  {
   "cell_type": "code",
   "execution_count": 57,
   "metadata": {},
   "outputs": [],
   "source": [
    "from sklearn.metrics import log_loss, accuracy_score"
   ]
  },
  {
   "cell_type": "code",
   "execution_count": 58,
   "metadata": {},
   "outputs": [
    {
     "data": {
      "text/plain": [
       "100.0"
      ]
     },
     "execution_count": 58,
     "metadata": {},
     "output_type": "execute_result"
    }
   ],
   "source": [
    "# Decision Tree\n",
    "decision_tree = DecisionTreeClassifier()\n",
    "decision_tree.fit(X_train, Y_train)\n",
    "Y_pred = decision_tree.predict(X_test)\n",
    "acc_decision_tree = round(decision_tree.score(X_train, Y_train) * 100, 2)\n",
    "acc_decision_tree"
   ]
  },
  {
   "cell_type": "code",
   "execution_count": 59,
   "metadata": {},
   "outputs": [
    {
     "data": {
      "text/plain": [
       "100.0"
      ]
     },
     "execution_count": 59,
     "metadata": {},
     "output_type": "execute_result"
    }
   ],
   "source": [
    "# Random Forest\n",
    "random_forest = RandomForestClassifier(n_estimators=100)\n",
    "random_forest.fit(X_train, Y_train)\n",
    "Y_pred = random_forest.predict(X_test)\n",
    "random_forest.score(X_train, Y_train)\n",
    "acc_random_forest = round(random_forest.score(X_train, Y_train) * 100, 2)\n",
    "acc_random_forest"
   ]
  },
  {
   "cell_type": "code",
   "execution_count": 24,
   "metadata": {},
   "outputs": [
    {
     "data": {
      "text/html": [
       "<div>\n",
       "<style scoped>\n",
       "    .dataframe tbody tr th:only-of-type {\n",
       "        vertical-align: middle;\n",
       "    }\n",
       "\n",
       "    .dataframe tbody tr th {\n",
       "        vertical-align: top;\n",
       "    }\n",
       "\n",
       "    .dataframe thead th {\n",
       "        text-align: right;\n",
       "    }\n",
       "</style>\n",
       "<table border=\"1\" class=\"dataframe\">\n",
       "  <thead>\n",
       "    <tr style=\"text-align: right;\">\n",
       "      <th></th>\n",
       "      <th>Model</th>\n",
       "      <th>Score</th>\n",
       "    </tr>\n",
       "  </thead>\n",
       "  <tbody>\n",
       "    <tr>\n",
       "      <th>0</th>\n",
       "      <td>Random Forest</td>\n",
       "      <td>100.0</td>\n",
       "    </tr>\n",
       "    <tr>\n",
       "      <th>1</th>\n",
       "      <td>Decision Tree</td>\n",
       "      <td>100.0</td>\n",
       "    </tr>\n",
       "  </tbody>\n",
       "</table>\n",
       "</div>"
      ],
      "text/plain": [
       "           Model  Score\n",
       "0  Random Forest  100.0\n",
       "1  Decision Tree  100.0"
      ]
     },
     "execution_count": 24,
     "metadata": {},
     "output_type": "execute_result"
    }
   ],
   "source": [
    "models = pd.DataFrame({\n",
    "    'Model': ['Random Forest', 'Decision Tree'],\n",
    "    'Score': [acc_random_forest,  acc_decision_tree]})\n",
    "models.sort_values(by='Score', ascending=False)"
   ]
  },
  {
   "cell_type": "markdown",
   "metadata": {},
   "source": [
    "As we can see, the Random Forest classifier goes on the first place. But first, let us check, how random-forest performs, when we use cross validation."
   ]
  },
  {
   "cell_type": "markdown",
   "metadata": {},
   "source": [
    "# K-Fold Cross Validation:"
   ]
  },
  {
   "cell_type": "markdown",
   "metadata": {},
   "source": [
    "K-Fold Cross Validation randomly splits the training data into K subsets called folds. Let's image we would split our data into 4 folds (K = 4). Our random forest model would be trained and evaluated 4 times, using a different fold for evaluation everytime, while it would be trained on the remaining 3 folds.\n",
    "\n",
    " Every row represents one training + evaluation process. In the first row, the model get's trained on the first, second and third subset and evaluated on the fourth. In the second row, the model get's trained on the second, third and fourth subset and evaluated on the first. K-Fold Cross Validation repeats this process till every fold acted once as an evaluation fold."
   ]
  },
  {
   "cell_type": "markdown",
   "metadata": {},
   "source": [
    "The result of our K-Fold Cross Validation example would be an array that contains 4 different scores. We then need to compute the mean and the standard deviation for these scores.\n",
    "\n",
    "The code below perform K-Fold Cross Validation on our random forest model, using 10 folds (K = 10). Therefore it outputs an array with 10 different scores"
   ]
  },
  {
   "cell_type": "code",
   "execution_count": 25,
   "metadata": {},
   "outputs": [],
   "source": [
    "from sklearn.model_selection import cross_val_score\n",
    "rf = RandomForestClassifier(n_estimators=100)\n",
    "scores = cross_val_score(rf, X_train, Y_train, cv=10, scoring = \"accuracy\")"
   ]
  },
  {
   "cell_type": "code",
   "execution_count": 26,
   "metadata": {},
   "outputs": [
    {
     "name": "stdout",
     "output_type": "stream",
     "text": [
      "Scores: [0.95167286 0.95145419 0.95254756 0.95013123 0.95056868 0.95230803\n",
      " 0.95077664 0.94946401 0.95099541 0.95077664]\n",
      "Mean: 0.9510695241930385\n",
      "Standard Deviation: 0.000900912710684367\n"
     ]
    }
   ],
   "source": [
    "print(\"Scores:\", scores)\n",
    "print(\"Mean:\", scores.mean())\n",
    "print(\"Standard Deviation:\", scores.std())"
   ]
  },
  {
   "cell_type": "markdown",
   "metadata": {},
   "source": [
    "\n",
    "\n",
    "This looks much more realistic than before. Our model has a average accuracy of 95% with a standard deviation of .0177 %. The standard deviation shows us, how precise the estimates are .\n",
    "\n",
    "This means in our case that the accuracy of our model can differ + - .0177%.\n",
    "\n",
    "I think the accuracy is still really good and since random forest is an easy to use model, we will try to increase it's performance even further in the following section.\n"
   ]
  },
  {
   "cell_type": "markdown",
   "metadata": {},
   "source": [
    "# Random Forest"
   ]
  },
  {
   "cell_type": "markdown",
   "metadata": {},
   "source": [
    "## What is Random Forest ?"
   ]
  },
  {
   "cell_type": "markdown",
   "metadata": {},
   "source": [
    "Random Forest is a supervised learning algorithm. Like you can already see from it’s name, it creates a forest and makes it somehow random. The „forest“ it builds, is an ensemble of Decision Trees, most of the time trained with the “bagging” method. The general idea of the bagging method is that a combination of learning models increases the overall result.\n",
    "\n",
    "To say it in simple words: Random forest builds multiple decision trees and merges them together to get a more accurate and stable prediction.\n",
    "\n",
    "One big advantage of random forest is, that it can be used for both classification and regression problems, which form the majority of current machine learning systems. With a few exceptions a random-forest classifier has all the hyperparameters of a decision-tree classifier and also all the hyperparameters of a bagging classifier, to control the ensemble itself.\n",
    "\n",
    "The random-forest algorithm brings extra randomness into the model, when it is growing the trees. Instead of searching for the best feature while splitting a node, it searches for the best feature among a random subset of features. This process creates a wide diversity, which generally results in a better model. Therefore when you are growing a tree in random forest, only a random subset of the features is considered for splitting a node. You can even make trees more random, by using random thresholds on top of it, for each feature rather than searching for the best possible thresholds (like a normal decision tree does).\n",
    "\n",
    "Below you can see how a random forest would look like with two trees:"
   ]
  },
  {
   "cell_type": "markdown",
   "metadata": {},
   "source": [
    "<img src = 'img1.png',width=700,height=800>"
   ]
  },
  {
   "cell_type": "markdown",
   "metadata": {},
   "source": [
    "<h1>Feature Importance</h1>"
   ]
  },
  {
   "cell_type": "markdown",
   "metadata": {},
   "source": [
    "Another great quality of random forest is that they make it very easy to measure the relative importance of each feature. Sklearn measure a features importance by looking at how much the treee nodes, that use that feature, reduce impurity on average (across all trees in the forest). It computes this score automaticall for each feature after training and scales the results so that the sum of all importances is equal to 1. We will acces this below:"
   ]
  },
  {
   "cell_type": "code",
   "execution_count": 27,
   "metadata": {},
   "outputs": [],
   "source": [
    "importances = pd.DataFrame({'feature':X_train.columns,'importance':np.round(random_forest.feature_importances_,3)})\n",
    "importances = importances.sort_values('importance',ascending=False).set_index('feature')"
   ]
  },
  {
   "cell_type": "code",
   "execution_count": 28,
   "metadata": {},
   "outputs": [
    {
     "data": {
      "text/html": [
       "<div>\n",
       "<style scoped>\n",
       "    .dataframe tbody tr th:only-of-type {\n",
       "        vertical-align: middle;\n",
       "    }\n",
       "\n",
       "    .dataframe tbody tr th {\n",
       "        vertical-align: top;\n",
       "    }\n",
       "\n",
       "    .dataframe thead th {\n",
       "        text-align: right;\n",
       "    }\n",
       "</style>\n",
       "<table border=\"1\" class=\"dataframe\">\n",
       "  <thead>\n",
       "    <tr style=\"text-align: right;\">\n",
       "      <th></th>\n",
       "      <th>importance</th>\n",
       "    </tr>\n",
       "    <tr>\n",
       "      <th>feature</th>\n",
       "      <th></th>\n",
       "    </tr>\n",
       "  </thead>\n",
       "  <tbody>\n",
       "    <tr>\n",
       "      <th>IRFAMIN3</th>\n",
       "      <td>0.153</td>\n",
       "    </tr>\n",
       "    <tr>\n",
       "      <th>ANALWT_C</th>\n",
       "      <td>0.121</td>\n",
       "    </tr>\n",
       "    <tr>\n",
       "      <th>VESTR</th>\n",
       "      <td>0.094</td>\n",
       "    </tr>\n",
       "    <tr>\n",
       "      <th>POVERTY3</th>\n",
       "      <td>0.069</td>\n",
       "    </tr>\n",
       "    <tr>\n",
       "      <th>IRPINC3</th>\n",
       "      <td>0.063</td>\n",
       "    </tr>\n",
       "    <tr>\n",
       "      <th>GRPHLTIN</th>\n",
       "      <td>0.056</td>\n",
       "    </tr>\n",
       "    <tr>\n",
       "      <th>IRHHSIZ2</th>\n",
       "      <td>0.041</td>\n",
       "    </tr>\n",
       "    <tr>\n",
       "      <th>IFATHER</th>\n",
       "      <td>0.034</td>\n",
       "    </tr>\n",
       "    <tr>\n",
       "      <th>IRPRVHLT</th>\n",
       "      <td>0.032</td>\n",
       "    </tr>\n",
       "    <tr>\n",
       "      <th>PRVHLTIN</th>\n",
       "      <td>0.031</td>\n",
       "    </tr>\n",
       "    <tr>\n",
       "      <th>COUTYP2</th>\n",
       "      <td>0.022</td>\n",
       "    </tr>\n",
       "    <tr>\n",
       "      <th>IRKI17_2</th>\n",
       "      <td>0.021</td>\n",
       "    </tr>\n",
       "    <tr>\n",
       "      <th>PRXYDATA</th>\n",
       "      <td>0.019</td>\n",
       "    </tr>\n",
       "    <tr>\n",
       "      <th>PDEN10</th>\n",
       "      <td>0.018</td>\n",
       "    </tr>\n",
       "    <tr>\n",
       "      <th>VEREP</th>\n",
       "      <td>0.018</td>\n",
       "    </tr>\n",
       "  </tbody>\n",
       "</table>\n",
       "</div>"
      ],
      "text/plain": [
       "          importance\n",
       "feature             \n",
       "IRFAMIN3       0.153\n",
       "ANALWT_C       0.121\n",
       "VESTR          0.094\n",
       "POVERTY3       0.069\n",
       "IRPINC3        0.063\n",
       "GRPHLTIN       0.056\n",
       "IRHHSIZ2       0.041\n",
       "IFATHER        0.034\n",
       "IRPRVHLT       0.032\n",
       "PRVHLTIN       0.031\n",
       "COUTYP2        0.022\n",
       "IRKI17_2       0.021\n",
       "PRXYDATA       0.019\n",
       "PDEN10         0.018\n",
       "VEREP          0.018"
      ]
     },
     "execution_count": 28,
     "metadata": {},
     "output_type": "execute_result"
    }
   ],
   "source": [
    "importances.head(15)"
   ]
  },
  {
   "cell_type": "code",
   "execution_count": 29,
   "metadata": {},
   "outputs": [
    {
     "data": {
      "text/plain": [
       "<matplotlib.axes._subplots.AxesSubplot at 0x1f13e58c390>"
      ]
     },
     "execution_count": 29,
     "metadata": {},
     "output_type": "execute_result"
    },
    {
     "data": {
      "image/png": "[encoded data removed]",
      "text/plain": [
       "<matplotlib.figure.Figure at 0x1f13e487470>"
      ]
     },
     "metadata": {},
     "output_type": "display_data"
    }
   ],
   "source": [
    "importances.plot.bar(figsize=(20,10))"
   ]
  },
  {
   "cell_type": "markdown",
   "metadata": {},
   "source": [
    "Now we can start tuning the hyperameters of random forest."
   ]
  },
  {
   "cell_type": "markdown",
   "metadata": {},
   "source": [
    "## Hyperparameter Tuning"
   ]
  },
  {
   "cell_type": "markdown",
   "metadata": {},
   "source": [
    "Below we can see the code of the hyperparamter tuning for the parameters criterion, min_samples_leaf, min_samples_split and n_estimators."
   ]
  },
  {
   "cell_type": "markdown",
   "metadata": {},
   "source": [
    "param_grid = { \"criterion\" : [\"gini\", \"entropy\"], \"min_samples_leaf\" : [1, 5, 10, 25, 50, 70], \"min_samples_split\" : [2, 4, 10, 12, 16, 18, 25, 35], \"n_estimators\": [100, 400, 700, 1000, 1500]}\n",
    "\n",
    "from sklearn.model_selection import GridSearchCV, cross_val_score\n",
    "\n",
    "rf = RandomForestClassifier(n_estimators=100, max_features='auto', oob_score=True, random_state=1, n_jobs=-1)\n",
    "\n",
    "clf = GridSearchCV(estimator=rf, param_grid=param_grid, n_jobs=-1)\n",
    "\n",
    "clf.fit(X_train, Y_train)\n",
    "\n",
    "clf.bestparams"
   ]
  },
  {
   "cell_type": "markdown",
   "metadata": {},
   "source": [
    "### Test new paramters:"
   ]
  },
  {
   "cell_type": "code",
   "execution_count": 30,
   "metadata": {},
   "outputs": [
    {
     "name": "stdout",
     "output_type": "stream",
     "text": [
      "oob score: 95.28999999999999 %\n"
     ]
    }
   ],
   "source": [
    "# Random Forest\n",
    "random_forest = RandomForestClassifier(criterion = \"gini\", \n",
    "                                       min_samples_leaf = 1, \n",
    "                                       min_samples_split = 10,   \n",
    "                                       n_estimators=100, \n",
    "                                       max_features='auto', \n",
    "                                       oob_score=True, \n",
    "                                       random_state=1, \n",
    "                                       n_jobs=-1)\n",
    "\n",
    "random_forest.fit(X_train, Y_train)\n",
    "Y_prediction = random_forest.predict(X_test)\n",
    "\n",
    "random_forest.score(X_train, Y_train)\n",
    "\n",
    "print(\"oob score:\", round(random_forest.oob_score_, 4)*100, \"%\")"
   ]
  },
  {
   "cell_type": "markdown",
   "metadata": {},
   "source": [
    "# Ensemble Method\n"
   ]
  },
  {
   "cell_type": "code",
   "execution_count": 31,
   "metadata": {},
   "outputs": [],
   "source": [
    "from sklearn. ensemble import VotingClassifier"
   ]
  },
  {
   "cell_type": "code",
   "execution_count": 32,
   "metadata": {},
   "outputs": [],
   "source": [
    "evc = VotingClassifier(estimators= [('decision_tree',decision_tree),('random_forest',random_forest)], voting = 'hard')"
   ]
  },
  {
   "cell_type": "code",
   "execution_count": 33,
   "metadata": {},
   "outputs": [
    {
     "name": "stderr",
     "output_type": "stream",
     "text": [
      "c:\\python\\lib\\site-packages\\sklearn\\preprocessing\\label.py:151: DeprecationWarning: The truth value of an empty array is ambiguous. Returning False, but in future this will result in an error. Use `array.size > 0` to check that an array is not empty.\n",
      "  if diff:\n",
      "c:\\python\\lib\\site-packages\\sklearn\\preprocessing\\label.py:151: DeprecationWarning: The truth value of an empty array is ambiguous. Returning False, but in future this will result in an error. Use `array.size > 0` to check that an array is not empty.\n",
      "  if diff:\n"
     ]
    },
    {
     "data": {
      "text/plain": [
       "98.48"
      ]
     },
     "execution_count": 33,
     "metadata": {},
     "output_type": "execute_result"
    }
   ],
   "source": [
    "evc.fit(X_train,Y_train)\n",
    "model3 = evc.predict(X_test)\n",
    "acc_evc =round(evc.score(X_train,Y_train)*100,2)\n",
    "acc_evc"
   ]
  },
  {
   "cell_type": "markdown",
   "metadata": {},
   "source": [
    "Now that we have a proper model, we can start evaluating it's performace in a more accurate way. Previously we only used accuracy and the oob score, which is just another form of accuracy. The problem is just, that it's more complicated to evaluate a classification model than a regression model. We will talk about this in the following section."
   ]
  },
  {
   "cell_type": "markdown",
   "metadata": {},
   "source": [
    "# Further Evaluation"
   ]
  },
  {
   "cell_type": "markdown",
   "metadata": {},
   "source": [
    "## Confusion Matrix:"
   ]
  },
  {
   "cell_type": "code",
   "execution_count": 34,
   "metadata": {},
   "outputs": [
    {
     "data": {
      "text/plain": [
       "array([[41747,   796],\n",
       "       [ 1403,  1772]], dtype=int64)"
      ]
     },
     "execution_count": 34,
     "metadata": {},
     "output_type": "execute_result"
    }
   ],
   "source": [
    "from sklearn.model_selection import cross_val_predict\n",
    "from sklearn.metrics import confusion_matrix\n",
    "predictions = cross_val_predict(random_forest, X_train, Y_train, cv=3)\n",
    "confusion_matrix(Y_train, predictions)"
   ]
  },
  {
   "cell_type": "markdown",
   "metadata": {},
   "source": [
    "The first row is about the not-survived-predictions: 41747 passengers were correctly classified as not criminal (called true negatives) and 796 where wrongly classified as not criminal (false positives).\n",
    "\n",
    "The second row is about the criminal-predictions: 1403 records where wrongly classified as criminal (false negatives) and 1772 where correctly classified as criminal (true positives).\n",
    "\n",
    "A confusion matrix gives us a lot of information about how well our model does, but theres a way to get even more, like computing the classifiers precision.\n"
   ]
  },
  {
   "cell_type": "code",
   "execution_count": null,
   "metadata": {},
   "outputs": [],
   "source": []
  },
  {
   "cell_type": "code",
   "execution_count": 35,
   "metadata": {},
   "outputs": [],
   "source": [
    "submission = pd.DataFrame({\n",
    "        \"PERID\": test_df[\"PERID\"],\n",
    "        \"Criminal\": Y_pred\n",
    "    })"
   ]
  },
  {
   "cell_type": "code",
   "execution_count": null,
   "metadata": {},
   "outputs": [],
   "source": []
  },
  {
   "cell_type": "code",
   "execution_count": 36,
   "metadata": {},
   "outputs": [],
   "source": [
    "submission.to_csv('sample_submission10.csv', index=False,  columns = [\"PERID\",\"Criminal\"])"
   ]
  }
 ],
 "metadata": {
  "kernelspec": {
   "display_name": "Python 3",
   "language": "python",
   "name": "python3"
  },
  "language_info": {
   "codemirror_mode": {
    "name": "ipython",
    "version": 3
   },
   "file_extension": ".py",
   "mimetype": "text/x-python",
   "name": "python",
   "nbconvert_exporter": "python",
   "pygments_lexer": "ipython3",
   "version": "3.6.4"
  }
 },
 "nbformat": 4,
 "nbformat_minor": 2
}
